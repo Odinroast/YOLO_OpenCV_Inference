{
 "cells": [
  {
   "cell_type": "code",
   "execution_count": 2,
   "metadata": {},
   "outputs": [],
   "source": [
    "# Import required libraies\n",
    "import cv2\n",
    "import ultralytics"
   ]
  },
  {
   "cell_type": "code",
   "execution_count": 3,
   "metadata": {},
   "outputs": [],
   "source": [
    "# Load the trained YOLO model\n",
    "model = ultralytics.YOLO(\"best.pt\")"
   ]
  },
  {
   "cell_type": "code",
   "execution_count": 5,
   "metadata": {},
   "outputs": [
    {
     "name": "stdout",
     "output_type": "stream",
     "text": [
      "\n",
      "image 1/1 c:\\Users\\ruthv\\OneDrive\\Desktop\\ResistorSorter- Project\\YOLO_OpenCV_Inference\\IMG_4836.png: 640x320 2 resistors, 66.4ms\n",
      "Speed: 2.0ms preprocess, 66.4ms inference, 1.0ms postprocess per image at shape (1, 3, 640, 320)\n",
      "Results saved to \u001b[1mruns\\detect\\predict\u001b[0m\n"
     ]
    }
   ],
   "source": [
    "# Get the results from the model on an input image\n",
    "results = model(\"IMG_4836.png\", save = True)"
   ]
  },
  {
   "cell_type": "code",
   "execution_count": 5,
   "metadata": {},
   "outputs": [
    {
     "name": "stdout",
     "output_type": "stream",
     "text": [
      "[ultralytics.engine.results.Results object with attributes:\n",
      "\n",
      "boxes: ultralytics.engine.results.Boxes object\n",
      "keypoints: None\n",
      "masks: None\n",
      "names: {0: 'gray wire', 1: 'resistor'}\n",
      "obb: None\n",
      "orig_img: array([[[25, 16, 13],\n",
      "        [23, 15,  9],\n",
      "        [21, 12,  3],\n",
      "        ...,\n",
      "        [ 6,  6,  7],\n",
      "        [ 5,  5,  3],\n",
      "        [ 3,  4,  2]],\n",
      "\n",
      "       [[28, 21, 13],\n",
      "        [26, 19, 10],\n",
      "        [25, 18,  9],\n",
      "        ...,\n",
      "        [ 5,  5,  3],\n",
      "        [ 5,  5,  3],\n",
      "        [ 5,  5,  3]],\n",
      "\n",
      "       [[22, 15,  7],\n",
      "        [26, 19, 10],\n",
      "        [25, 18,  9],\n",
      "        ...,\n",
      "        [ 6,  8,  5],\n",
      "        [ 5,  5,  3],\n",
      "        [ 3,  4,  2]],\n",
      "\n",
      "       ...,\n",
      "\n",
      "       [[ 6,  8, 10],\n",
      "        [ 5,  6, 10],\n",
      "        [ 5,  6, 11],\n",
      "        ...,\n",
      "        [ 3,  3,  3],\n",
      "        [ 3,  3,  3],\n",
      "        [ 2,  2,  2]],\n",
      "\n",
      "       [[ 5,  7,  9],\n",
      "        [ 6,  8, 11],\n",
      "        [ 9, 11, 15],\n",
      "        ...,\n",
      "        [ 5,  5,  5],\n",
      "        [ 3,  3,  3],\n",
      "        [ 3,  3,  3]],\n",
      "\n",
      "       [[12, 16, 18],\n",
      "        [14, 17, 20],\n",
      "        [ 5,  6, 11],\n",
      "        ...,\n",
      "        [ 3,  4,  3],\n",
      "        [ 3,  3,  3],\n",
      "        [ 3,  3,  3]]], dtype=uint8)\n",
      "orig_shape: (480, 640)\n",
      "path: 'c:\\\\Users\\\\ruthv\\\\OneDrive\\\\Desktop\\\\ResistorSorter- Project\\\\YOLO_OpenCV_Inference\\\\1ohm_1.png'\n",
      "probs: None\n",
      "save_dir: 'runs\\\\detect\\\\predict'\n",
      "speed: {'preprocess': 1.0056495666503906, 'inference': 83.21928977966309, 'postprocess': 1006.0069561004639}]\n"
     ]
    }
   ],
   "source": [
    "# Lets print the results\n",
    "print(results)"
   ]
  },
  {
   "cell_type": "code",
   "execution_count": 28,
   "metadata": {},
   "outputs": [
    {
     "data": {
      "text/plain": [
       "True"
      ]
     },
     "execution_count": 28,
     "metadata": {},
     "output_type": "execute_result"
    }
   ],
   "source": [
    "# Import cv2\n",
    "image_path = '1ohm_1.png'\n",
    "image = cv2.imread(image_path)\n",
    "\n",
    "# Get the x1,y1,x2,y2 coordinates of the bounding box\n",
    "for r in results:\n",
    "    x1, y1, x2, y2 = [int(x) for x in r.boxes.xyxy[0].tolist()]\n",
    "\n",
    "# Crop the image using the coordinates\n",
    "cropped_image = image[y1:y2, x1:x2]\n",
    "\n",
    "# Display the cropped image\n",
    "cv2.imshow(\"Cropped Image\", cropped_image)\n",
    "cv2.waitKey(0)\n",
    "cv2.destroyAllWindows()\n",
    "\n",
    "# Save the cropped image\n",
    "cv2.imwrite('cropped_image.jpg', cropped_image)"
   ]
  },
  {
   "cell_type": "code",
   "execution_count": null,
   "metadata": {},
   "outputs": [],
   "source": []
  }
 ],
 "metadata": {
  "kernelspec": {
   "display_name": "Python 3",
   "language": "python",
   "name": "python3"
  },
  "language_info": {
   "codemirror_mode": {
    "name": "ipython",
    "version": 3
   },
   "file_extension": ".py",
   "mimetype": "text/x-python",
   "name": "python",
   "nbconvert_exporter": "python",
   "pygments_lexer": "ipython3",
   "version": "3.10.0"
  }
 },
 "nbformat": 4,
 "nbformat_minor": 2
}
